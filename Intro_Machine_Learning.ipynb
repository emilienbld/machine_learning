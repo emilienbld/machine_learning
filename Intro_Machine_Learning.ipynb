{
 "cells": [
  {
   "cell_type": "markdown",
   "id": "f03cb074-5ed8-4b6f-8d5b-4f409d8770a4",
   "metadata": {},
   "source": [
    "# Suite de Fibonacci"
   ]
  },
  {
   "cell_type": "markdown",
   "id": "c41a8a94-255c-463a-99bf-0c22913cc040",
   "metadata": {},
   "source": [
    "## Sans \"memoization\""
   ]
  },
  {
   "cell_type": "code",
   "execution_count": 1,
   "id": "4b07111a-2420-43c0-a1fb-669b729d2842",
   "metadata": {},
   "outputs": [
    {
     "name": "stdout",
     "output_type": "stream",
     "text": [
      "CPU times: total: 281 ms\n",
      "Wall time: 398 ms\n"
     ]
    },
    {
     "data": {
      "text/plain": [
       "1346269"
      ]
     },
     "execution_count": 1,
     "metadata": {},
     "output_type": "execute_result"
    }
   ],
   "source": [
    "%%time\n",
    "def fibonacci(n):\n",
    "    if n <= 1:\n",
    "        return 1\n",
    "    else:\n",
    "        return fibonacci(n-1) + fibonacci(n-2)\n",
    "\n",
    "fibonacci(30)"
   ]
  },
  {
   "cell_type": "markdown",
   "id": "32be6dea-1951-40f5-8efd-49af41084312",
   "metadata": {},
   "source": [
    "## Avec \"memoization\""
   ]
  },
  {
   "cell_type": "code",
   "execution_count": 2,
   "id": "c363a0cb-4ac2-4c47-a664-4ad344307e11",
   "metadata": {},
   "outputs": [
    {
     "name": "stdout",
     "output_type": "stream",
     "text": [
      "832040\n",
      "CPU times: total: 0 ns\n",
      "Wall time: 0 ns\n"
     ]
    }
   ],
   "source": [
    "%%time\n",
    "fibonacci_cache = {0: 0, 1: 1}\n",
    "                   \n",
    "def fibonacci(n):\n",
    "    if n in fibonacci_cache:\n",
    "        return fibonacci_cache[n]\n",
    "    \n",
    "    fibonacci_cache[n] = fibonacci(n-1) + fibonacci(n-2)\n",
    "    \n",
    "    return fibonacci_cache[n]\n",
    "\n",
    "print(fibonacci(30))"
   ]
  },
  {
   "cell_type": "markdown",
   "id": "67eaecfc-d985-446a-a52b-409c64b6d71c",
   "metadata": {},
   "source": [
    "La memozation est utile à partir d'un certain nombre de données à traiter.<br>\n",
    "Par exepmle pour 10 sans memoization, le programme va plus vite mais pour 30 on apperçoit un début décart."
   ]
  },
  {
   "cell_type": "markdown",
   "id": "dd3657c8-055a-4463-813e-adb90b4fc62b",
   "metadata": {},
   "source": [
    "# Algorithme de recherche indice"
   ]
  },
  {
   "cell_type": "code",
   "execution_count": 3,
   "id": "7741584d-281c-4451-bba7-9969798e2984",
   "metadata": {},
   "outputs": [
    {
     "name": "stdout",
     "output_type": "stream",
     "text": [
      "0 n'est pas dans la liste.\n"
     ]
    }
   ],
   "source": [
    "def research_indice(L, n):\n",
    "    a = 0\n",
    "    b = n - 1\n",
    "    \n",
    "    while a < b:\n",
    "        h = (a + b) // 2\n",
    "        if L[h] == 0:\n",
    "            return h\n",
    "        elif L[h] > 0:\n",
    "            b = h\n",
    "        else:\n",
    "            a = h + 1\n",
    "            \n",
    "    return None\n",
    "\n",
    "# Exemple d'utilisation\n",
    "L = [-3, -1, 0, 2, 4, 5, 7]\n",
    "L = [-3, -2, -1, 0, 5, 7]\n",
    "L = [-3, -1, 2, 4, 5, 7]\n",
    "n = len(L)\n",
    "result = research_indice(L, n)\n",
    "\n",
    "if result is not None:\n",
    "    print(f\"0 trouvé à l'index : {result}\")\n",
    "else:\n",
    "    print(\"0 n'est pas dans la liste.\")\n"
   ]
  }
 ],
 "metadata": {
  "kernelspec": {
   "display_name": "Python 3",
   "language": "python",
   "name": "python3"
  },
  "language_info": {
   "codemirror_mode": {
    "name": "ipython",
    "version": 3
   },
   "file_extension": ".py",
   "mimetype": "text/x-python",
   "name": "python",
   "nbconvert_exporter": "python",
   "pygments_lexer": "ipython3",
   "version": "3.11.3"
  }
 },
 "nbformat": 4,
 "nbformat_minor": 5
}
