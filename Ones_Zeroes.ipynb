{
 "cells": [
  {
   "cell_type": "markdown",
   "metadata": {},
   "source": [
    "# Ones and Zeroes"
   ]
  },
  {
   "cell_type": "code",
   "execution_count": null,
   "metadata": {},
   "outputs": [],
   "source": [
    "class Solution:\n",
    "    def findMaxForm(self, strs: list[str], m: int, n: int) -> int:\n",
    "        dp = [[0] * (n + 1) for _ in range(m + 1)]\n",
    "        \n",
    "        for s in strs:\n",
    "            zeros = s.count('0')\n",
    "            ones = s.count('1')\n",
    "            \n",
    "            for i in range(m, zeros - 1, -1):\n",
    "                for j in range(n, ones - 1, -1):\n",
    "                    dp[i][j] = max(dp[i][j], dp[i - zeros][j - ones] + 1)\n",
    "        \n",
    "        return dp[m][n]\n"
   ]
  }
 ],
 "metadata": {
  "kernelspec": {
   "display_name": "Python 3",
   "language": "python",
   "name": "python3"
  },
  "language_info": {
   "name": "python",
   "version": "3.11.3"
  }
 },
 "nbformat": 4,
 "nbformat_minor": 2
}
