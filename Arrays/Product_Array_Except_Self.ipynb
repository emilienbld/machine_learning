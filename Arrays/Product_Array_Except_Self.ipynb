{
 "cells": [
  {
   "cell_type": "markdown",
   "metadata": {},
   "source": [
    "# Product of Array Except Self\n",
    "## Leetcode 238"
   ]
  },
  {
   "cell_type": "code",
   "execution_count": null,
   "metadata": {},
   "outputs": [],
   "source": [
    "class Solution:\n",
    "    def productExceptSelf(self, nums: list[int]) -> list[int]:\n",
    "        n = len(nums)\n",
    "        \n",
    "        result = [1] * n\n",
    "        \n",
    "        prefix = 1\n",
    "        for i in range(n):\n",
    "            result[i] = prefix\n",
    "            prefix *= nums[i]\n",
    "        \n",
    "        suffix = 1\n",
    "        for i in range(n-1, -1, -1):\n",
    "            result[i] *= suffix\n",
    "            suffix *= nums[i]\n",
    "        \n",
    "        return result"
   ]
  }
 ],
 "metadata": {
  "kernelspec": {
   "display_name": "Python 3",
   "language": "python",
   "name": "python3"
  },
  "language_info": {
   "name": "python",
   "version": "3.11.3"
  }
 },
 "nbformat": 4,
 "nbformat_minor": 2
}
