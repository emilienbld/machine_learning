{
 "cells": [
  {
   "cell_type": "markdown",
   "metadata": {},
   "source": [
    "# Subarray Sum Equals K\n",
    "## Leetcode 560"
   ]
  },
  {
   "cell_type": "code",
   "execution_count": null,
   "metadata": {},
   "outputs": [],
   "source": [
    "class Solution:\n",
    "    def subarraySum(self, nums: list[int], k: int) -> int:\n",
    "        sum_count = {0: 1}\n",
    "        current_sum = 0\n",
    "        count = 0\n",
    "        \n",
    "        for num in nums:\n",
    "            current_sum += num\n",
    "            \n",
    "            if (current_sum - k) in sum_count:\n",
    "                count += sum_count[current_sum - k]\n",
    "            \n",
    "            if current_sum in sum_count:\n",
    "                sum_count[current_sum] += 1\n",
    "            else:\n",
    "                sum_count[current_sum] = 1\n",
    "        \n",
    "        return count"
   ]
  }
 ],
 "metadata": {
  "kernelspec": {
   "display_name": "Python 3",
   "language": "python",
   "name": "python3"
  },
  "language_info": {
   "name": "python",
   "version": "3.11.3"
  }
 },
 "nbformat": 4,
 "nbformat_minor": 2
}
