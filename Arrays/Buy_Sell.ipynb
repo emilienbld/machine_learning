{
 "cells": [
  {
   "cell_type": "markdown",
   "metadata": {},
   "source": [
    "# Best Time to Buy and Sell Stock\n",
    "## Leetcode 121"
   ]
  },
  {
   "cell_type": "code",
   "execution_count": null,
   "metadata": {},
   "outputs": [],
   "source": [
    "class Solution:\n",
    "    def maxProfit(self, prices: list[int]) -> int:\n",
    "        min_price = float('inf')\n",
    "        max_profit = 0\n",
    "        \n",
    "        for price in prices:\n",
    "            if price < min_price:\n",
    "                min_price = price\n",
    "            else:\n",
    "                max_profit = max(max_profit, price - min_price)\n",
    "        \n",
    "        return max_profit"
   ]
  }
 ],
 "metadata": {
  "kernelspec": {
   "display_name": "Python 3",
   "language": "python",
   "name": "python3"
  },
  "language_info": {
   "name": "python",
   "version": "3.11.3"
  }
 },
 "nbformat": 4,
 "nbformat_minor": 2
}
