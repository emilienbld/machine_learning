{
 "cells": [
  {
   "cell_type": "markdown",
   "metadata": {},
   "source": [
    "# Implement Queue using Stacks\n",
    "## Leetcode 232"
   ]
  },
  {
   "cell_type": "code",
   "execution_count": null,
   "metadata": {},
   "outputs": [],
   "source": [
    "class MyQueue:\n",
    "\n",
    "    def __init__(self):\n",
    "        self.input_stack = []\n",
    "        self.output_stack = []\n",
    "\n",
    "    def push(self, x: int) -> None:\n",
    "        self.input_stack.append(x)\n",
    "\n",
    "    def pop(self) -> int:\n",
    "        if not self.output_stack:\n",
    "            while self.input_stack:\n",
    "                self.output_stack.append(self.input_stack.pop())\n",
    "        return self.output_stack.pop()\n",
    "\n",
    "    def peek(self) -> int:\n",
    "        if not self.output_stack:\n",
    "            while self.input_stack:\n",
    "                self.output_stack.append(self.input_stack.pop())\n",
    "        return self.output_stack[-1]\n",
    "\n",
    "    def empty(self) -> bool:\n",
    "        return not self.input_stack and not self.output_stack\n",
    "\n",
    "# Your MyQueue object will be instantiated and called as such:\n",
    "# obj = MyQueue()\n",
    "# obj.push(x)\n",
    "# param_2 = obj.pop()\n",
    "# param_3 = obj.peek()\n",
    "# param_4 = obj.empty()"
   ]
  }
 ],
 "metadata": {
  "kernelspec": {
   "display_name": "Python 3",
   "language": "python",
   "name": "python3"
  },
  "language_info": {
   "name": "python",
   "version": "3.11.3"
  }
 },
 "nbformat": 4,
 "nbformat_minor": 2
}
