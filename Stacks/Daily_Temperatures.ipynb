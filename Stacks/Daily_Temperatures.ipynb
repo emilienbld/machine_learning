{
 "cells": [
  {
   "cell_type": "markdown",
   "metadata": {},
   "source": [
    "# Daily Temperatures\n",
    "## Leetcode 739"
   ]
  },
  {
   "cell_type": "code",
   "execution_count": null,
   "metadata": {},
   "outputs": [],
   "source": [
    "class Solution:\n",
    "    def dailyTemperatures(self, temperatures: List[int]) -> List[int]:\n",
    "        answer = [0] * len(temperatures)\n",
    "        stack = []\n",
    "\n",
    "        for i, temp in enumerate(temperatures):\n",
    "            while stack and temperatures[stack[-1]] < temp:\n",
    "                prev_index = stack.pop()\n",
    "                answer[prev_index] = i - prev_index\n",
    "            \n",
    "            stack.append(i)\n",
    "\n",
    "        return answer"
   ]
  }
 ],
 "metadata": {
  "kernelspec": {
   "display_name": "Python 3",
   "language": "python",
   "name": "python3"
  },
  "language_info": {
   "name": "python",
   "version": "3.11.3"
  }
 },
 "nbformat": 4,
 "nbformat_minor": 2
}
