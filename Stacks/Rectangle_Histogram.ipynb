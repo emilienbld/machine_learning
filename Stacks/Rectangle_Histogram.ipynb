{
 "cells": [
  {
   "cell_type": "markdown",
   "metadata": {},
   "source": [
    "# Largest Rectangle in Histogram\n",
    "## Leetcode 84"
   ]
  },
  {
   "cell_type": "code",
   "execution_count": null,
   "metadata": {},
   "outputs": [],
   "source": [
    "class Solution:\n",
    "    def largestRectangleArea(self, heights: List[int]) -> int:\n",
    "        heights.append(0)\n",
    "        \n",
    "        stack = []\n",
    "        max_area = 0\n",
    "        n = len(heights)\n",
    "\n",
    "        for i in range(n):\n",
    "            while stack and heights[stack[-1]] > heights[i]:\n",
    "                height = heights[stack.pop()]\n",
    "                width = i if not stack else i - stack[-1] - 1\n",
    "                max_area = max(max_area, height * width)\n",
    "            stack.append(i)\n",
    "\n",
    "        return max_area"
   ]
  }
 ],
 "metadata": {
  "kernelspec": {
   "display_name": "Python 3",
   "language": "python",
   "name": "python3"
  },
  "language_info": {
   "name": "python",
   "version": "3.11.3"
  }
 },
 "nbformat": 4,
 "nbformat_minor": 2
}
