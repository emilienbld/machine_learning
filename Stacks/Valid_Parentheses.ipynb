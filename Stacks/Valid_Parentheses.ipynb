{
 "cells": [
  {
   "cell_type": "markdown",
   "metadata": {},
   "source": [
    "# Valid Parentheses\n",
    "## Leetcode 20"
   ]
  },
  {
   "cell_type": "code",
   "execution_count": null,
   "metadata": {},
   "outputs": [],
   "source": [
    "class Solution:\n",
    "    def isValid(self, s: str) -> bool:\n",
    "        matching_parentheses = {')': '(', '}': '{', ']': '['}\n",
    "        stack = []\n",
    "        \n",
    "        for char in s:\n",
    "            if char in matching_parentheses:\n",
    "                if stack and stack[-1] == matching_parentheses[char]:\n",
    "                    stack.pop()\n",
    "                else:\n",
    "                    return False\n",
    "            else:\n",
    "                stack.append(char)\n",
    "        \n",
    "        return not stack"
   ]
  }
 ],
 "metadata": {
  "kernelspec": {
   "display_name": "Python 3",
   "language": "python",
   "name": "python3"
  },
  "language_info": {
   "name": "python",
   "version": "3.11.3"
  }
 },
 "nbformat": 4,
 "nbformat_minor": 2
}
