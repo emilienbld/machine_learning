{
 "cells": [
  {
   "cell_type": "markdown",
   "metadata": {},
   "source": [
    "# Evaluate Reverse Polish Notation\n",
    "## Leetcode 150"
   ]
  },
  {
   "cell_type": "code",
   "execution_count": null,
   "metadata": {},
   "outputs": [],
   "source": [
    "class Solution:\n",
    "    def evalRPN(self, tokens: List[str]) -> int:\n",
    "        stack = []\n",
    "        \n",
    "        for token in tokens:\n",
    "            match token:\n",
    "                case \"+\":\n",
    "                    b = stack.pop()\n",
    "                    a = stack.pop()\n",
    "                    stack.append(a + b)\n",
    "                case \"-\":\n",
    "                    b = stack.pop()\n",
    "                    a = stack.pop()\n",
    "                    stack.append(a - b)\n",
    "                case \"*\":\n",
    "                    b = stack.pop()\n",
    "                    a = stack.pop()\n",
    "                    stack.append(a * b)\n",
    "                case \"/\":\n",
    "                    b = stack.pop()\n",
    "                    a = stack.pop()\n",
    "                    stack.append(int(a / b))\n",
    "                case _:\n",
    "                    stack.append(int(token))\n",
    "        \n",
    "        return stack[0]"
   ]
  }
 ],
 "metadata": {
  "kernelspec": {
   "display_name": "Python 3",
   "language": "python",
   "name": "python3"
  },
  "language_info": {
   "name": "python",
   "version": "3.11.3"
  }
 },
 "nbformat": 4,
 "nbformat_minor": 2
}
