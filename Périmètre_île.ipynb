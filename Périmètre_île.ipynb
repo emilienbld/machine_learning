{
 "cells": [
  {
   "cell_type": "markdown",
   "metadata": {},
   "source": [
    "# Périmètre de l'île"
   ]
  },
  {
   "cell_type": "code",
   "execution_count": null,
   "metadata": {},
   "outputs": [],
   "source": [
    "class Solution:\n",
    "    def islandPerimeter(self, grid: list[list[int]]) -> int:\n",
    "        rows = len(grid)\n",
    "        cols = len(grid[0])\n",
    "        \n",
    "        perimeter = 0\n",
    "        \n",
    "        for i in range(rows):\n",
    "            for j in range(cols):\n",
    "                if grid[i][j] == 1:\n",
    "                    perimeter += 4\n",
    "                    \n",
    "                    if i > 0 and grid[i - 1][j] == 1:\n",
    "                        perimeter -= 2\n",
    "                    \n",
    "                    if j > 0 and grid[i][j - 1] == 1:\n",
    "                        perimeter -= 2\n",
    "        \n",
    "        return perimeter"
   ]
  }
 ],
 "metadata": {
  "kernelspec": {
   "display_name": "Python 3",
   "language": "python",
   "name": "python3"
  },
  "language_info": {
   "name": "python",
   "version": "3.11.3"
  }
 },
 "nbformat": 4,
 "nbformat_minor": 2
}
