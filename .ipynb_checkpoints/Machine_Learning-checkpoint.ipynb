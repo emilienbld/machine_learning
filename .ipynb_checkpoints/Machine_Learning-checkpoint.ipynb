{
 "cells": [
  {
   "cell_type": "markdown",
   "id": "f03cb074-5ed8-4b6f-8d5b-4f409d8770a4",
   "metadata": {},
   "source": [
    "# Suite de Fibonacci"
   ]
  },
  {
   "cell_type": "markdown",
   "id": "c41a8a94-255c-463a-99bf-0c22913cc040",
   "metadata": {},
   "source": [
    "## Sans \"memoization\""
   ]
  },
  {
   "cell_type": "code",
   "execution_count": 1,
   "id": "4b07111a-2420-43c0-a1fb-669b729d2842",
   "metadata": {},
   "outputs": [
    {
     "name": "stdout",
     "output_type": "stream",
     "text": [
      "CPU times: user 419 ms, sys: 0 ns, total: 419 ms\n",
      "Wall time: 415 ms\n"
     ]
    },
    {
     "data": {
      "text/plain": [
       "1346269"
      ]
     },
     "execution_count": 1,
     "metadata": {},
     "output_type": "execute_result"
    }
   ],
   "source": [
    "%%time\n",
    "def fibonacci(n):\n",
    "    if n <= 1:\n",
    "        return 1\n",
    "    else:\n",
    "        return fibonacci(n-1) + fibonacci(n-2)\n",
    "\n",
    "fibonacci(30)"
   ]
  },
  {
   "cell_type": "markdown",
   "id": "32be6dea-1951-40f5-8efd-49af41084312",
   "metadata": {},
   "source": [
    "## Avec \"memoization\""
   ]
  },
  {
   "cell_type": "code",
   "execution_count": 2,
   "id": "c363a0cb-4ac2-4c47-a664-4ad344307e11",
   "metadata": {},
   "outputs": [
    {
     "name": "stdout",
     "output_type": "stream",
     "text": [
      "832040\n",
      "CPU times: user 431 μs, sys: 52 μs, total: 483 μs\n",
      "Wall time: 441 μs\n"
     ]
    }
   ],
   "source": [
    "%%time\n",
    "fibonacci_cache = {0: 0, 1: 1}\n",
    "                   \n",
    "def fibonacci(n):\n",
    "    if n in fibonacci_cache:\n",
    "        return fibonacci_cache[n]\n",
    "    \n",
    "    fibonacci_cache[n] = fibonacci(n-1) + fibonacci(n-2)\n",
    "    \n",
    "    return fibonacci_cache[n]\n",
    "\n",
    "print(fibonacci(30))"
   ]
  },
  {
   "cell_type": "markdown",
   "id": "67eaecfc-d985-446a-a52b-409c64b6d71c",
   "metadata": {},
   "source": [
    "La memozation est utile à partir d'un certain nombre de données à traiter.<br>\n",
    "Par exepmle pour 10 sans memoization, le programme va plus vite mais pour 30 on apperçoit un début décart."
   ]
  },
  {
   "cell_type": "markdown",
   "id": "dd3657c8-055a-4463-813e-adb90b4fc62b",
   "metadata": {},
   "source": [
    "# "
   ]
  }
 ],
 "metadata": {
  "kernelspec": {
   "display_name": "Python 3 (ipykernel)",
   "language": "python",
   "name": "python3"
  },
  "language_info": {
   "codemirror_mode": {
    "name": "ipython",
    "version": 3
   },
   "file_extension": ".py",
   "mimetype": "text/x-python",
   "name": "python",
   "nbconvert_exporter": "python",
   "pygments_lexer": "ipython3",
   "version": "3.10.12"
  }
 },
 "nbformat": 4,
 "nbformat_minor": 5
}
