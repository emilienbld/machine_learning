{
 "cells": [
  {
   "cell_type": "markdown",
   "metadata": {},
   "source": [
    "# Nombre d'île"
   ]
  },
  {
   "cell_type": "code",
   "execution_count": null,
   "metadata": {},
   "outputs": [],
   "source": [
    "class Solution:\n",
    "    def numIslands(self, grid: list[list[str]]) -> int:\n",
    "        rows = len(grid)\n",
    "        cols = len(grid[0])\n",
    "        \n",
    "        def dfs(i, j):\n",
    "            if i < 0 or i >= rows or j < 0 or j >= cols or grid[i][j] == \"0\":\n",
    "                return\n",
    "            grid[i][j] = \"0\"\n",
    "            \n",
    "            dfs(i - 1, j)  # Haut\n",
    "            dfs(i + 1, j)  # Bas\n",
    "            dfs(i, j - 1)  # Gauche\n",
    "            dfs(i, j + 1)  # Droite\n",
    "        \n",
    "        nb_islands = 0\n",
    "        \n",
    "        for i in range(rows):\n",
    "            for j in range(cols):\n",
    "                if grid[i][j] == \"1\":\n",
    "                    dfs(i, j)\n",
    "                    nb_islands += 1\n",
    "        \n",
    "        return nb_islands"
   ]
  }
 ],
 "metadata": {
  "kernelspec": {
   "display_name": "Python 3",
   "language": "python",
   "name": "python3"
  },
  "language_info": {
   "name": "python",
   "version": "3.11.3"
  }
 },
 "nbformat": 4,
 "nbformat_minor": 2
}
